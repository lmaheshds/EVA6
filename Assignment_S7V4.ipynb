{
  "nbformat": 4,
  "nbformat_minor": 0,
  "metadata": {
    "colab": {
      "name": " Assignment S7V4.ipynb",
      "provenance": [],
      "collapsed_sections": [],
      "authorship_tag": "ABX9TyPt3ZsAofllg+gG7mSuuooC",
      "include_colab_link": true
    },
    "kernelspec": {
      "name": "python3",
      "display_name": "Python 3"
    },
    "language_info": {
      "name": "python"
    },
    "widgets": {
      "application/vnd.jupyter.widget-state+json": {
        "edad8f1a788d4429831d4526004bf0a8": {
          "model_module": "@jupyter-widgets/controls",
          "model_name": "HBoxModel",
          "state": {
            "_view_name": "HBoxView",
            "_dom_classes": [],
            "_model_name": "HBoxModel",
            "_view_module": "@jupyter-widgets/controls",
            "_model_module_version": "1.5.0",
            "_view_count": null,
            "_view_module_version": "1.5.0",
            "box_style": "",
            "layout": "IPY_MODEL_9d0a000e1a664073b59c3a577f0e8d56",
            "_model_module": "@jupyter-widgets/controls",
            "children": [
              "IPY_MODEL_e1dd881701ad4202a8bef933a522cba0",
              "IPY_MODEL_a22cd00bd3234c4bbab5e3de5901ad1f"
            ]
          }
        },
        "9d0a000e1a664073b59c3a577f0e8d56": {
          "model_module": "@jupyter-widgets/base",
          "model_name": "LayoutModel",
          "state": {
            "_view_name": "LayoutView",
            "grid_template_rows": null,
            "right": null,
            "justify_content": null,
            "_view_module": "@jupyter-widgets/base",
            "overflow": null,
            "_model_module_version": "1.2.0",
            "_view_count": null,
            "flex_flow": null,
            "width": null,
            "min_width": null,
            "border": null,
            "align_items": null,
            "bottom": null,
            "_model_module": "@jupyter-widgets/base",
            "top": null,
            "grid_column": null,
            "overflow_y": null,
            "overflow_x": null,
            "grid_auto_flow": null,
            "grid_area": null,
            "grid_template_columns": null,
            "flex": null,
            "_model_name": "LayoutModel",
            "justify_items": null,
            "grid_row": null,
            "max_height": null,
            "align_content": null,
            "visibility": null,
            "align_self": null,
            "height": null,
            "min_height": null,
            "padding": null,
            "grid_auto_rows": null,
            "grid_gap": null,
            "max_width": null,
            "order": null,
            "_view_module_version": "1.2.0",
            "grid_template_areas": null,
            "object_position": null,
            "object_fit": null,
            "grid_auto_columns": null,
            "margin": null,
            "display": null,
            "left": null
          }
        },
        "e1dd881701ad4202a8bef933a522cba0": {
          "model_module": "@jupyter-widgets/controls",
          "model_name": "FloatProgressModel",
          "state": {
            "_view_name": "ProgressView",
            "style": "IPY_MODEL_2b6c3b2ce50e4f118b2e8b4fe97da190",
            "_dom_classes": [],
            "description": "",
            "_model_name": "FloatProgressModel",
            "bar_style": "success",
            "max": 170498071,
            "_view_module": "@jupyter-widgets/controls",
            "_model_module_version": "1.5.0",
            "value": 170498071,
            "_view_count": null,
            "_view_module_version": "1.5.0",
            "orientation": "horizontal",
            "min": 0,
            "description_tooltip": null,
            "_model_module": "@jupyter-widgets/controls",
            "layout": "IPY_MODEL_0e0fa68c61a54928885ec4752cb4297d"
          }
        },
        "a22cd00bd3234c4bbab5e3de5901ad1f": {
          "model_module": "@jupyter-widgets/controls",
          "model_name": "HTMLModel",
          "state": {
            "_view_name": "HTMLView",
            "style": "IPY_MODEL_7dfac10d956a4110845c2af4a23f6bf4",
            "_dom_classes": [],
            "description": "",
            "_model_name": "HTMLModel",
            "placeholder": "​",
            "_view_module": "@jupyter-widgets/controls",
            "_model_module_version": "1.5.0",
            "value": " 170499072/? [00:38&lt;00:00, 4480204.93it/s]",
            "_view_count": null,
            "_view_module_version": "1.5.0",
            "description_tooltip": null,
            "_model_module": "@jupyter-widgets/controls",
            "layout": "IPY_MODEL_eeb123968a314cf286e222803c7e9d48"
          }
        },
        "2b6c3b2ce50e4f118b2e8b4fe97da190": {
          "model_module": "@jupyter-widgets/controls",
          "model_name": "ProgressStyleModel",
          "state": {
            "_view_name": "StyleView",
            "_model_name": "ProgressStyleModel",
            "description_width": "initial",
            "_view_module": "@jupyter-widgets/base",
            "_model_module_version": "1.5.0",
            "_view_count": null,
            "_view_module_version": "1.2.0",
            "bar_color": null,
            "_model_module": "@jupyter-widgets/controls"
          }
        },
        "0e0fa68c61a54928885ec4752cb4297d": {
          "model_module": "@jupyter-widgets/base",
          "model_name": "LayoutModel",
          "state": {
            "_view_name": "LayoutView",
            "grid_template_rows": null,
            "right": null,
            "justify_content": null,
            "_view_module": "@jupyter-widgets/base",
            "overflow": null,
            "_model_module_version": "1.2.0",
            "_view_count": null,
            "flex_flow": null,
            "width": null,
            "min_width": null,
            "border": null,
            "align_items": null,
            "bottom": null,
            "_model_module": "@jupyter-widgets/base",
            "top": null,
            "grid_column": null,
            "overflow_y": null,
            "overflow_x": null,
            "grid_auto_flow": null,
            "grid_area": null,
            "grid_template_columns": null,
            "flex": null,
            "_model_name": "LayoutModel",
            "justify_items": null,
            "grid_row": null,
            "max_height": null,
            "align_content": null,
            "visibility": null,
            "align_self": null,
            "height": null,
            "min_height": null,
            "padding": null,
            "grid_auto_rows": null,
            "grid_gap": null,
            "max_width": null,
            "order": null,
            "_view_module_version": "1.2.0",
            "grid_template_areas": null,
            "object_position": null,
            "object_fit": null,
            "grid_auto_columns": null,
            "margin": null,
            "display": null,
            "left": null
          }
        },
        "7dfac10d956a4110845c2af4a23f6bf4": {
          "model_module": "@jupyter-widgets/controls",
          "model_name": "DescriptionStyleModel",
          "state": {
            "_view_name": "StyleView",
            "_model_name": "DescriptionStyleModel",
            "description_width": "",
            "_view_module": "@jupyter-widgets/base",
            "_model_module_version": "1.5.0",
            "_view_count": null,
            "_view_module_version": "1.2.0",
            "_model_module": "@jupyter-widgets/controls"
          }
        },
        "eeb123968a314cf286e222803c7e9d48": {
          "model_module": "@jupyter-widgets/base",
          "model_name": "LayoutModel",
          "state": {
            "_view_name": "LayoutView",
            "grid_template_rows": null,
            "right": null,
            "justify_content": null,
            "_view_module": "@jupyter-widgets/base",
            "overflow": null,
            "_model_module_version": "1.2.0",
            "_view_count": null,
            "flex_flow": null,
            "width": null,
            "min_width": null,
            "border": null,
            "align_items": null,
            "bottom": null,
            "_model_module": "@jupyter-widgets/base",
            "top": null,
            "grid_column": null,
            "overflow_y": null,
            "overflow_x": null,
            "grid_auto_flow": null,
            "grid_area": null,
            "grid_template_columns": null,
            "flex": null,
            "_model_name": "LayoutModel",
            "justify_items": null,
            "grid_row": null,
            "max_height": null,
            "align_content": null,
            "visibility": null,
            "align_self": null,
            "height": null,
            "min_height": null,
            "padding": null,
            "grid_auto_rows": null,
            "grid_gap": null,
            "max_width": null,
            "order": null,
            "_view_module_version": "1.2.0",
            "grid_template_areas": null,
            "object_position": null,
            "object_fit": null,
            "grid_auto_columns": null,
            "margin": null,
            "display": null,
            "left": null
          }
        }
      }
    },
    "accelerator": "GPU"
  },
  "cells": [
    {
      "cell_type": "markdown",
      "metadata": {
        "id": "view-in-github",
        "colab_type": "text"
      },
      "source": [
        "<a href=\"https://colab.research.google.com/github/lmaheshds/EVA6/blob/main/Assignment_S7V4.ipynb\" target=\"_parent\"><img src=\"https://colab.research.google.com/assets/colab-badge.svg\" alt=\"Open In Colab\"/></a>"
      ]
    },
    {
      "cell_type": "markdown",
      "metadata": {
        "id": "nbRrYDwUTZrG"
      },
      "source": [
        "# Assignment S7 brief\n",
        "The Code flow will be as below\n",
        "\n",
        "Data-> Dataset-> DataLoader-> Model-> Loss-> Optimizer\n",
        "\n",
        "1. Package is torchvision\n",
        "2. Data is CIFAR10.\n",
        "3. Data loaders to be used is torch.utils.data.DataLoader\n",
        "4. CIFAR10 classes: ‘airplane’, ‘automobile’, ‘bird’, ‘cat’, ‘deer’, ‘dog’, ‘frog’, ‘horse’, ‘ship’, ‘truck’.\n",
        "5. The images in CIFAR-10 are of size 3x32x32, i.e. 3-channel color images of 32x32 pixels in size.\n",
        "\n",
        "# Approach steps\n",
        "1. GPU conversion and verification\n",
        "2. Load and normalizing the CIFAR10 training and test datasets using torchvision\n",
        "3. Define a Convolution Neural Network\n",
        "4. Define a loss function\n",
        "5. Train and Test the network\n",
        "6. Model Plot for the Accuracy\n",
        "\n",
        "\n",
        "\n"
      ]
    },
    {
      "cell_type": "markdown",
      "metadata": {
        "id": "fNiSk30PT__D"
      },
      "source": [
        "# Libraries installation and Import"
      ]
    },
    {
      "cell_type": "code",
      "metadata": {
        "colab": {
          "base_uri": "https://localhost:8080/"
        },
        "id": "6R7n-jfSTWeQ",
        "outputId": "0dadef4f-3a70-4943-f55c-34d0bb32cbe1"
      },
      "source": [
        "!pip install albumentations==0.4.6\n",
        "from __future__ import print_function\n",
        "import torch\n",
        "import torchvision\n",
        "import torch.nn as nn\n",
        "import torch.nn.functional as F\n",
        "import torch.optim as optim\n",
        "from torchvision import datasets, transforms\n",
        "import numpy as np\n",
        "import matplotlib.pyplot as plt\n",
        "from torchvision.datasets import CIFAR10\n",
        "from torchvision.transforms import ToTensor\n",
        "from torchvision.utils import make_grid\n",
        "from torch.utils.data.dataloader import DataLoader\n",
        "from torch.utils.data import random_split\n",
        "import random\n",
        "import albumentations as A\n",
        "from albumentations.pytorch import ToTensorV2\n",
        "import cv2\n",
        "%matplotlib inline"
      ],
      "execution_count": null,
      "outputs": [
        {
          "output_type": "stream",
          "text": [
            "Collecting albumentations==0.4.6\n",
            "\u001b[?25l  Downloading https://files.pythonhosted.org/packages/92/33/1c459c2c9a4028ec75527eff88bc4e2d256555189f42af4baf4d7bd89233/albumentations-0.4.6.tar.gz (117kB)\n",
            "\u001b[K     |████████████████████████████████| 122kB 10.5MB/s \n",
            "\u001b[?25hRequirement already satisfied: numpy>=1.11.1 in /usr/local/lib/python3.7/dist-packages (from albumentations==0.4.6) (1.19.5)\n",
            "Requirement already satisfied: scipy in /usr/local/lib/python3.7/dist-packages (from albumentations==0.4.6) (1.4.1)\n",
            "Collecting imgaug>=0.4.0\n",
            "\u001b[?25l  Downloading https://files.pythonhosted.org/packages/66/b1/af3142c4a85cba6da9f4ebb5ff4e21e2616309552caca5e8acefe9840622/imgaug-0.4.0-py2.py3-none-any.whl (948kB)\n",
            "\u001b[K     |████████████████████████████████| 952kB 21.3MB/s \n",
            "\u001b[?25hRequirement already satisfied: PyYAML in /usr/local/lib/python3.7/dist-packages (from albumentations==0.4.6) (3.13)\n",
            "Requirement already satisfied: opencv-python>=4.1.1 in /usr/local/lib/python3.7/dist-packages (from albumentations==0.4.6) (4.1.2.30)\n",
            "Requirement already satisfied: Pillow in /usr/local/lib/python3.7/dist-packages (from imgaug>=0.4.0->albumentations==0.4.6) (7.1.2)\n",
            "Requirement already satisfied: imageio in /usr/local/lib/python3.7/dist-packages (from imgaug>=0.4.0->albumentations==0.4.6) (2.4.1)\n",
            "Requirement already satisfied: scikit-image>=0.14.2 in /usr/local/lib/python3.7/dist-packages (from imgaug>=0.4.0->albumentations==0.4.6) (0.16.2)\n",
            "Requirement already satisfied: Shapely in /usr/local/lib/python3.7/dist-packages (from imgaug>=0.4.0->albumentations==0.4.6) (1.7.1)\n",
            "Requirement already satisfied: matplotlib in /usr/local/lib/python3.7/dist-packages (from imgaug>=0.4.0->albumentations==0.4.6) (3.2.2)\n",
            "Requirement already satisfied: six in /usr/local/lib/python3.7/dist-packages (from imgaug>=0.4.0->albumentations==0.4.6) (1.15.0)\n",
            "Requirement already satisfied: networkx>=2.0 in /usr/local/lib/python3.7/dist-packages (from scikit-image>=0.14.2->imgaug>=0.4.0->albumentations==0.4.6) (2.5.1)\n",
            "Requirement already satisfied: PyWavelets>=0.4.0 in /usr/local/lib/python3.7/dist-packages (from scikit-image>=0.14.2->imgaug>=0.4.0->albumentations==0.4.6) (1.1.1)\n",
            "Requirement already satisfied: cycler>=0.10 in /usr/local/lib/python3.7/dist-packages (from matplotlib->imgaug>=0.4.0->albumentations==0.4.6) (0.10.0)\n",
            "Requirement already satisfied: kiwisolver>=1.0.1 in /usr/local/lib/python3.7/dist-packages (from matplotlib->imgaug>=0.4.0->albumentations==0.4.6) (1.3.1)\n",
            "Requirement already satisfied: python-dateutil>=2.1 in /usr/local/lib/python3.7/dist-packages (from matplotlib->imgaug>=0.4.0->albumentations==0.4.6) (2.8.1)\n",
            "Requirement already satisfied: pyparsing!=2.0.4,!=2.1.2,!=2.1.6,>=2.0.1 in /usr/local/lib/python3.7/dist-packages (from matplotlib->imgaug>=0.4.0->albumentations==0.4.6) (2.4.7)\n",
            "Requirement already satisfied: decorator<5,>=4.3 in /usr/local/lib/python3.7/dist-packages (from networkx>=2.0->scikit-image>=0.14.2->imgaug>=0.4.0->albumentations==0.4.6) (4.4.2)\n",
            "Building wheels for collected packages: albumentations\n",
            "  Building wheel for albumentations (setup.py) ... \u001b[?25l\u001b[?25hdone\n",
            "  Created wheel for albumentations: filename=albumentations-0.4.6-cp37-none-any.whl size=65175 sha256=77617dcf3bbd1b9e8a2a3d920d97fd3cf25b4365b7960f146047b89a71cca81f\n",
            "  Stored in directory: /root/.cache/pip/wheels/c7/f4/89/56d1bee5c421c36c1a951eeb4adcc32fbb82f5344c086efa14\n",
            "Successfully built albumentations\n",
            "Installing collected packages: imgaug, albumentations\n",
            "  Found existing installation: imgaug 0.2.9\n",
            "    Uninstalling imgaug-0.2.9:\n",
            "      Successfully uninstalled imgaug-0.2.9\n",
            "  Found existing installation: albumentations 0.1.12\n",
            "    Uninstalling albumentations-0.1.12:\n",
            "      Successfully uninstalled albumentations-0.1.12\n",
            "Successfully installed albumentations-0.4.6 imgaug-0.4.0\n"
          ],
          "name": "stdout"
        }
      ]
    },
    {
      "cell_type": "markdown",
      "metadata": {
        "id": "eFIllPm9UKPl"
      },
      "source": [
        "#1. Converting and Verifying the Processor as GPU"
      ]
    },
    {
      "cell_type": "code",
      "metadata": {
        "colab": {
          "base_uri": "https://localhost:8080/"
        },
        "id": "dh5jANJmUNpb",
        "outputId": "d21f319a-c145-43b4-c281-1aeb3a6d2a57"
      },
      "source": [
        "!pip install torchsummary\n",
        "from torchsummary import summary\n",
        "use_cuda = torch.cuda.is_available()\n",
        "device = torch.device(\"cuda\" if use_cuda else \"cpu\")\n",
        "print(device)"
      ],
      "execution_count": null,
      "outputs": [
        {
          "output_type": "stream",
          "text": [
            "Requirement already satisfied: torchsummary in /usr/local/lib/python3.7/dist-packages (1.5.1)\n",
            "cuda\n"
          ],
          "name": "stdout"
        }
      ]
    },
    {
      "cell_type": "markdown",
      "metadata": {
        "id": "f_2OmuBDUP7t"
      },
      "source": [
        "# 2. Loading and normalizing CIFAR10\n",
        "Using torchvision, it’s extremely easy to load CIFAR10.\n",
        "\n"
      ]
    },
    {
      "cell_type": "code",
      "metadata": {
        "id": "BORdbLNubSGW"
      },
      "source": [
        "class Cifar10SearchDataset(torchvision.datasets.CIFAR10):\n",
        "    def __init__(self, root=\"~/data/cifar10\", train=True, download=True, transform=None):\n",
        "        super().__init__(root=root, train=train, download=download, transform=transform)\n",
        "\n",
        "    def __getitem__(self, index):\n",
        "        image, label = self.data[index], self.targets[index]\n",
        "\n",
        "        if self.transform is not None:\n",
        "            transformed = self.transform(image=image)\n",
        "            image = transformed[\"image\"]\n",
        "\n",
        "        return image, label"
      ],
      "execution_count": null,
      "outputs": []
    },
    {
      "cell_type": "markdown",
      "metadata": {
        "id": "OEXv0Kesoerw"
      },
      "source": [
        "The output of torchvision datasets are PIL Image, images of range [0, 1]. Transform the images to Tensors between normalized range [-1, 1].\n",
        "\n",
        "We have used the Albumentations tools for altering the images."
      ]
    },
    {
      "cell_type": "code",
      "metadata": {
        "colab": {
          "base_uri": "https://localhost:8080/",
          "height": 150,
          "referenced_widgets": [
            "edad8f1a788d4429831d4526004bf0a8",
            "9d0a000e1a664073b59c3a577f0e8d56",
            "e1dd881701ad4202a8bef933a522cba0",
            "a22cd00bd3234c4bbab5e3de5901ad1f",
            "2b6c3b2ce50e4f118b2e8b4fe97da190",
            "0e0fa68c61a54928885ec4752cb4297d",
            "7dfac10d956a4110845c2af4a23f6bf4",
            "eeb123968a314cf286e222803c7e9d48"
          ]
        },
        "id": "I1b4q3t_UbOl",
        "outputId": "5c366a9c-08d2-46f0-b222-60053ca36863"
      },
      "source": [
        "# Train Phase transformations\n",
        "stats = ((0.4914, 0.4822, 0.4465), (0.2023, 0.1994, 0.2010))\n",
        "\n",
        "train_transform = A.Compose([\n",
        "    A.HorizontalFlip(p=0.4),\n",
        "    A.ShiftScaleRotate(shift_limit=0.05, scale_limit=0.05, rotate_limit=15, p=0.5),\n",
        "    A.CoarseDropout(max_holes = 1, max_height=4, max_width=4, min_holes = 1, \n",
        "                    min_height=1, min_width=1, fill_value=[0.49139968, 0.48215841, 0.44653091]),\n",
        "    A.ToGray(p=0.2),\n",
        "    A.Normalize(mean=(0.49139968, 0.48215841, 0.44653091), std=(0.24703223, 0.24348513, 0.26158784)),\n",
        "    ToTensorV2(),\n",
        "])\n",
        "      \n",
        "# Test Phase transformations\n",
        "test_transform = transforms.Compose([\n",
        "                                      #  transforms.Resize((32, 32)),\n",
        "                                      #  transforms.ColorJitter(brightness=0.10, contrast=0.1, saturation=0.10, hue=0.1),\n",
        "                                       transforms.ToTensor(),\n",
        "                                       transforms.Normalize(*stats,inplace=True)\n",
        "                                       ])\n",
        "\n",
        "trainset = Cifar10SearchDataset('./data', train=True, download=True, transform=train_transform)\n",
        "\n",
        "testset = datasets.CIFAR10('./data', train=False, download=True, transform=test_transform)\n",
        "\n",
        "print('trainset',len(trainset))\n",
        "print('testset', len(testset))"
      ],
      "execution_count": null,
      "outputs": [
        {
          "output_type": "stream",
          "text": [
            "Downloading https://www.cs.toronto.edu/~kriz/cifar-10-python.tar.gz to ./data/cifar-10-python.tar.gz\n"
          ],
          "name": "stdout"
        },
        {
          "output_type": "display_data",
          "data": {
            "application/vnd.jupyter.widget-view+json": {
              "model_id": "edad8f1a788d4429831d4526004bf0a8",
              "version_minor": 0,
              "version_major": 2
            },
            "text/plain": [
              "HBox(children=(FloatProgress(value=0.0, max=170498071.0), HTML(value='')))"
            ]
          },
          "metadata": {
            "tags": []
          }
        },
        {
          "output_type": "stream",
          "text": [
            "\n",
            "Extracting ./data/cifar-10-python.tar.gz to ./data\n",
            "Files already downloaded and verified\n",
            "trainset 50000\n",
            "testset 10000\n"
          ],
          "name": "stdout"
        }
      ]
    },
    {
      "cell_type": "markdown",
      "metadata": {
        "id": "akY4VOFYUtTS"
      },
      "source": [
        "# Dataloader Arguments & Train and Test Dataloaders"
      ]
    },
    {
      "cell_type": "code",
      "metadata": {
        "colab": {
          "base_uri": "https://localhost:8080/"
        },
        "id": "k5HqQQ-yUx4F",
        "outputId": "eaadcd78-2c72-424b-86bf-a78753f90007"
      },
      "source": [
        "SEED = 1\n",
        "\n",
        "# CUDA?\n",
        "cuda = torch.cuda.is_available()\n",
        "print(\"CUDA Available?\", cuda)\n",
        "\n",
        "# For reproducibility\n",
        "torch.manual_seed(SEED)\n",
        "\n",
        "if cuda:\n",
        "    torch.cuda.manual_seed(SEED)\n",
        "\n",
        "# dataloader arguments - something we'll fetch these from cmdprmt\n",
        "dataloader_args = dict(shuffle=True, batch_size=50, num_workers=2, pin_memory=True) if cuda else dict(shuffle=True, batch_size=50)\n",
        "\n",
        "# train dataloader\n",
        "train_loader = torch.utils.data.DataLoader(trainset, **dataloader_args)\n",
        "# test dataloader\n",
        "test_loader = torch.utils.data.DataLoader(testset, **dataloader_args)"
      ],
      "execution_count": null,
      "outputs": [
        {
          "output_type": "stream",
          "text": [
            "CUDA Available? True\n"
          ],
          "name": "stdout"
        }
      ]
    },
    {
      "cell_type": "markdown",
      "metadata": {
        "id": "CsuDzXYIUUjt"
      },
      "source": [
        "# Dataset Classes\n",
        "By using the classes method, we can get the image classes from the dataset."
      ]
    },
    {
      "cell_type": "code",
      "metadata": {
        "colab": {
          "base_uri": "https://localhost:8080/"
        },
        "id": "ZLzhTtfCUqvV",
        "outputId": "9895bfb1-52a1-4236-9929-40a15fcf4db3"
      },
      "source": [
        "classes = trainset.classes\n",
        "class_count = {}\n",
        "for _,index in trainset:\n",
        "  label = classes[index]\n",
        "  if label not in class_count:\n",
        "    class_count[label] = 0\n",
        "  class_count[label] += 1\n",
        "print(classes)\n",
        "print(class_count)"
      ],
      "execution_count": null,
      "outputs": [
        {
          "output_type": "stream",
          "text": [
            "['airplane', 'automobile', 'bird', 'cat', 'deer', 'dog', 'frog', 'horse', 'ship', 'truck']\n",
            "{'frog': 5000, 'truck': 5000, 'deer': 5000, 'automobile': 5000, 'bird': 5000, 'horse': 5000, 'ship': 5000, 'cat': 5000, 'dog': 5000, 'airplane': 5000}\n"
          ],
          "name": "stdout"
        }
      ]
    },
    {
      "cell_type": "markdown",
      "metadata": {
        "id": "f32P_ji7U1oV"
      },
      "source": [
        "Let's take a look at some sample images from the training dataloader.\n",
        "\n",
        "To display the images, we'll need to denormalize the pixels values to bring them back into the range (0,1)."
      ]
    },
    {
      "cell_type": "code",
      "metadata": {
        "colab": {
          "base_uri": "https://localhost:8080/",
          "height": 205
        },
        "id": "fNx2yT8_U4bt",
        "outputId": "85315b1b-956e-40df-ba14-924ab871eae9"
      },
      "source": [
        "def denormalize(images, means, stds):\n",
        "    means = torch.tensor(means).reshape(1, 3, 1, 1)\n",
        "    stds = torch.tensor(stds).reshape(1, 3, 1, 1)\n",
        "    return images * stds + means\n",
        "\n",
        "def show_batch(dl):\n",
        "    for images, labels in dl:\n",
        "        fig, ax = plt.subplots(figsize=(12, 12))\n",
        "        ax.set_xticks([]); ax.set_yticks([])\n",
        "        denorm_images = denormalize(images, *stats)\n",
        "        ax.imshow(make_grid(denorm_images[:16], nrow=8).permute(1, 2, 0).clamp(0,1))\n",
        "        break\n",
        "\n",
        "show_batch(train_loader)"
      ],
      "execution_count": null,
      "outputs": [
        {
          "output_type": "display_data",
          "data": {
            "image/png": "[encoded data removed]",
            "text/plain": [
              "<Figure size 864x864 with 1 Axes>"
            ]
          },
          "metadata": {
            "tags": []
          }
        }
      ]
    },
    {
      "cell_type": "markdown",
      "metadata": {
        "id": "cnSK2s1cU7tF"
      },
      "source": [
        "# 3. Define a Convolution Neural Network"
      ]
    },
    {
      "cell_type": "code",
      "metadata": {
        "id": "yrHuKPa-U_wN"
      },
      "source": [
        "class Net(nn.Module):\n",
        "    def __init__(self):\n",
        "        super(Net, self).__init__()\n",
        "\n",
        "        # Conv Block1 convolution\n",
        "        self.convblock1 = nn.Sequential(\n",
        "            nn.Conv2d(in_channels = 3, out_channels = 40, kernel_size = (3,3), stride = 2, padding = 0),\n",
        "            nn.BatchNorm2d(40),\n",
        "            nn.ReLU(),#[input img size=32x32, output img size=32-3+1=30,Jin of input image =1, Jout = Jin * stride = 1*2= 2, RF=input RF + (kernel -1 )* Jin =1+(3-1)*1=3]\n",
        "            \n",
        "            nn.Conv2d(in_channels = 40, out_channels = 56, kernel_size = (3,3), stride = 1, padding = 0),\n",
        "            nn.BatchNorm2d(56),\n",
        "            # nn.Dropout(0.05),\n",
        "            nn.ReLU(),#[input img size=30x30, output img size=30-3+1=28,Jin of input image =2, Jout = Jin * stride = 2*1= 2,RF=input RF + (kernel -1 )* Jin =3+(3-1)*2=7]\n",
        "            \n",
        "            nn.Conv2d(in_channels = 56, out_channels = 64, kernel_size = (3,3), stride = 1, padding = 0),\n",
        "            nn.BatchNorm2d(64),\n",
        "            nn.Dropout(0.05),\n",
        "            nn.ReLU()#[input img size=28x28, output img size=28-3+1=26,Jin of input image =2, Jout = Jin * stride = 2*1= 2,RF=input RF + (kernel -1 )* Jin =7+(3-1)*2=11]\n",
        "        ) \n",
        "        \n",
        "        # Conv Block2 Normal convolution in one conv with dilation\n",
        "        self.convblock2 = nn.Sequential(\n",
        "            nn.Conv2d(in_channels=64, out_channels=64, kernel_size=(3,3), dilation =2, stride = 1, padding=0, bias=False), \n",
        "            nn.BatchNorm2d(64),\n",
        "            nn.Dropout(0.05),# Receptive field size= 2(rate-1)*(k-1)+ k \n",
        "            nn.ReLU(), \n",
        "        )#[input img size=26x26, output img size=26-3+1=24, Jin of input image =2, Jout = Jin * stride = 2*1= 2, RF=2(rate-1)*(k-1)+ k =11+ 7=18]\n",
        "\n",
        "        # Conv Block3 with Depthwise separable convolution\n",
        "        self.convblock3 = nn.Sequential(\n",
        "            nn.Conv2d(in_channels=64, out_channels=64, kernel_size=(3,3), groups=64, stride = 1, padding=0, bias=False),# Out Img size=68-3+1=66, RF =72+(66-68)=70\n",
        "            nn.Conv2d(in_channels=64, out_channels=40, kernel_size=(1, 1), stride = 1, padding=0, bias=False),#Out Img=66-1+1= 66, RF = 70 +(66-66)=70\n",
        "            # nn.BatchNorm2d(256),\n",
        "            nn.ReLU(),\n",
        "        ) #[input img size=24x24, output img size=24-3+1=22, Jin of input image =2, Jout = Jin * stride = 2*1= 2, RF=input RF + (kernel -1 )* Jin =18+4=22]\n",
        "          #[input img size=22x22, output img size=22-1+1=22, Jin of input image =2, Jout = Jin * stride = 2*1= 2, RF=input RF + (kernel -1 )* Jin =22+0=22]\n",
        "\n",
        "        # Conv Block4 with Depthwise separable convolution\n",
        "        self.convblock4 = nn.Sequential(\n",
        "            nn.Conv2d(in_channels=40, out_channels=40, kernel_size=(3,3), groups=40, stride = 1, padding=0, bias=False),# Out Img size=67-3+1=65, RF =40+(65-67)= 38\n",
        "            nn.Conv2d(in_channels=40, out_channels=32, kernel_size=(1, 1), stride = 1, padding=0, bias=False),#Out Img=65-1+1= 65, RF = 38 +(65-65)= 38\n",
        "            # nn.BatchNorm2d(256),\n",
        "            nn.ReLU(),\n",
        "        )#[input img size=22x22, output img size=22-3+1=20, Jin of input image =2, Jout = Jin * stride = 2*1= 2, RF=input RF + (kernel -1 )* Jin =22+4=26]\n",
        "          #[input img size=20x20, output img size=20-1+1=20, Jin of input image =2, Jout = Jin * stride = 2*1= 2, RF=input RF + (kernel -1 )* Jin =26+0=26]  \n",
        "                \n",
        "        # OUTPUT BLOCK\n",
        "        self.convblock5 = nn.Sequential(\n",
        "            nn.Conv2d(in_channels=32, out_channels=32, kernel_size=(3,3), groups=32, stride = 1, padding=0, bias=False),\n",
        "            nn.Conv2d(in_channels=32, out_channels=10, kernel_size=(1, 1), stride = 1,padding=0, bias=False),# Output img size=71+ 0=71, RF = 56+0=56\n",
        "            #nn.Dropout(0.05),\n",
        "            nn.ReLU()\n",
        "        ) #[input img size=20x20, output img size=20-3+1=18, Jin of input image =2, Jout = Jin * stride = 2*1= 2, RF=input RF + (kernel -1 )* Jin =26+4=30]\n",
        "          #[input img size=18x18, output img size=18-1+1=18, Jin of input image =2, Jout = Jin * stride = 2*1= 2, RF=input RF + (kernel -1 )* Jin =30+0=30] \n",
        "\n",
        "\n",
        "        #self.avg = nn.AvgPool2d(6, ceil_mode=True) # global average pooling\n",
        "        self.gap = nn.Sequential(\n",
        "            nn.AvgPool2d(10, ceil_mode=True)\n",
        "        )\n",
        "        \n",
        "    def forward(self, x):\n",
        "        x = self.convblock1(x)\n",
        "        x = self.convblock2(x)\n",
        "        x = self.convblock3(x)\n",
        "        x = self.convblock4(x)\n",
        "        x = self.convblock5(x)\n",
        "        x = self.gap(x)\n",
        "        # # #x = x.view(x.size(0),-1)\n",
        "        x = x.view(-1, 10)\n",
        "        return F.log_softmax(x, dim=-1)   \n",
        "        #return x "
      ],
      "execution_count": null,
      "outputs": []
    },
    {
      "cell_type": "markdown",
      "metadata": {
        "id": "01nEC9pbVGRF"
      },
      "source": [
        "# Estimating Model Params"
      ]
    },
    {
      "cell_type": "code",
      "metadata": {
        "colab": {
          "base_uri": "https://localhost:8080/"
        },
        "id": "he8Jy8j5VJ5O",
        "outputId": "700eeacf-2e2f-4655-8187-9f66cb527fcd"
      },
      "source": [
        "!pip install torchsummary\n",
        "from torchsummary import summary\n",
        "use_cuda = torch.cuda.is_available()\n",
        "device = torch.device(\"cuda\" if use_cuda else \"cpu\")\n",
        "print(device)\n",
        "model = Net().to(device)\n",
        "summary(model, input_size=(3, 32, 32))"
      ],
      "execution_count": null,
      "outputs": [
        {
          "output_type": "stream",
          "text": [
            "Requirement already satisfied: torchsummary in /usr/local/lib/python3.7/dist-packages (1.5.1)\n",
            "cuda\n",
            "----------------------------------------------------------------\n",
            "        Layer (type)               Output Shape         Param #\n",
            "================================================================\n",
            "            Conv2d-1           [-1, 40, 15, 15]           1,120\n",
            "       BatchNorm2d-2           [-1, 40, 15, 15]              80\n",
            "              ReLU-3           [-1, 40, 15, 15]               0\n",
            "            Conv2d-4           [-1, 56, 13, 13]          20,216\n",
            "       BatchNorm2d-5           [-1, 56, 13, 13]             112\n",
            "              ReLU-6           [-1, 56, 13, 13]               0\n",
            "            Conv2d-7           [-1, 64, 11, 11]          32,320\n",
            "       BatchNorm2d-8           [-1, 64, 11, 11]             128\n",
            "           Dropout-9           [-1, 64, 11, 11]               0\n",
            "             ReLU-10           [-1, 64, 11, 11]               0\n",
            "           Conv2d-11             [-1, 64, 7, 7]          36,864\n",
            "      BatchNorm2d-12             [-1, 64, 7, 7]             128\n",
            "          Dropout-13             [-1, 64, 7, 7]               0\n",
            "             ReLU-14             [-1, 64, 7, 7]               0\n",
            "           Conv2d-15             [-1, 64, 5, 5]             576\n",
            "           Conv2d-16             [-1, 40, 5, 5]           2,560\n",
            "             ReLU-17             [-1, 40, 5, 5]               0\n",
            "           Conv2d-18             [-1, 40, 3, 3]             360\n",
            "           Conv2d-19             [-1, 32, 3, 3]           1,280\n",
            "             ReLU-20             [-1, 32, 3, 3]               0\n",
            "           Conv2d-21             [-1, 32, 1, 1]             288\n",
            "           Conv2d-22             [-1, 10, 1, 1]             320\n",
            "             ReLU-23             [-1, 10, 1, 1]               0\n",
            "        AvgPool2d-24             [-1, 10, 1, 1]               0\n",
            "================================================================\n",
            "Total params: 96,352\n",
            "Trainable params: 96,352\n",
            "Non-trainable params: 0\n",
            "----------------------------------------------------------------\n",
            "Input size (MB): 0.01\n",
            "Forward/backward pass size (MB): 0.79\n",
            "Params size (MB): 0.37\n",
            "Estimated Total Size (MB): 1.17\n",
            "----------------------------------------------------------------\n"
          ],
          "name": "stdout"
        }
      ]
    },
    {
      "cell_type": "markdown",
      "metadata": {
        "id": "ZjRiC-mVVMXW"
      },
      "source": [
        "# 4. Define a loss function"
      ]
    },
    {
      "cell_type": "code",
      "metadata": {
        "id": "m1zmauHlVRW3"
      },
      "source": [
        "from tqdm import tqdm\n",
        "\n",
        "train_losses = []\n",
        "test_losses = []\n",
        "train_acc = []\n",
        "test_acc = []\n",
        "\n",
        "def train(model, device, train_loader, optimizer, epoch):\n",
        "  model.train()\n",
        "  pbar = tqdm(train_loader)\n",
        "  correct = 0\n",
        "  processed = 0\n",
        "  for batch_idx, (data, target) in enumerate(pbar):\n",
        "    # get samples\n",
        "    data, target = data.to(device), target.to(device)\n",
        "\n",
        "    # Init\n",
        "    optimizer.zero_grad()\n",
        "    # In PyTorch, we need to set the gradients to zero before starting to do backpropragation because PyTorch accumulates the gradients on subsequent backward passes. \n",
        "    # Because of this, when you start your training loop, ideally you should zero out the gradients so that you do the parameter update correctly.\n",
        "\n",
        "    # Predict\n",
        "    y_pred = model(data)\n",
        "\n",
        "    # Calculate loss\n",
        "    loss = F.nll_loss(y_pred, target)\n",
        "    train_losses.append(loss)\n",
        "\n",
        "    # Backpropagation\n",
        "    loss.backward()\n",
        "    optimizer.step()\n",
        "\n",
        "    # Update pbar-tqdm\n",
        "    \n",
        "    pred = y_pred.argmax(dim=1, keepdim=True)  # get the index of the max log-probability\n",
        "    correct += pred.eq(target.view_as(pred)).sum().item()\n",
        "    processed += len(data)\n",
        "\n",
        "    pbar.set_description(desc= f'Loss={loss.item()} Batch_id={batch_idx} Accuracy={100*correct/processed:0.2f}')\n",
        "    train_acc.append(100*correct/processed)\n",
        "\n",
        "def test(model, device, test_loader):\n",
        "    model.eval()\n",
        "    test_loss = 0\n",
        "    correct = 0\n",
        "    with torch.no_grad():\n",
        "        for data, target in test_loader:\n",
        "            data, target = data.to(device), target.to(device)\n",
        "            output = model(data)\n",
        "            test_loss += F.nll_loss(output, target, reduction='sum').item()  # sum up batch loss\n",
        "            pred = output.argmax(dim=1, keepdim=True)  # get the index of the max log-probability\n",
        "            correct += pred.eq(target.view_as(pred)).sum().item()\n",
        "\n",
        "    test_loss /= len(test_loader.dataset)\n",
        "    test_losses.append(test_loss)\n",
        "\n",
        "    print('\\nTest set: Average loss: {:.4f}, Accuracy: {}/{} ({:.2f}%)\\n'.format(\n",
        "        test_loss, correct, len(test_loader.dataset),\n",
        "        100. * correct / len(test_loader.dataset)))\n",
        "    \n",
        "    test_acc.append(100. * correct / len(test_loader.dataset))"
      ],
      "execution_count": null,
      "outputs": []
    },
    {
      "cell_type": "markdown",
      "metadata": {
        "id": "UsiHEbENVWeE"
      },
      "source": [
        "# 5. Train and Test the network on the training data"
      ]
    },
    {
      "cell_type": "code",
      "metadata": {
        "colab": {
          "base_uri": "https://localhost:8080/"
        },
        "id": "HCMKMg_rVag8",
        "outputId": "7cf51869-4e59-4987-b572-19709d5cd94d"
      },
      "source": [
        "model =  Net().to(device)\n",
        "optimizer = optim.SGD(model.parameters(), lr=0.018, momentum=0.9)\n",
        "EPOCHS = 30\n",
        "for epoch in range(EPOCHS):\n",
        "    print(\"EPOCH:\", epoch)\n",
        "    train(model, device, train_loader, optimizer, epoch)\n",
        "    test(model, device, test_loader)"
      ],
      "execution_count": null,
      "outputs": [
        {
          "output_type": "stream",
          "text": [
            "\r  0%|          | 0/1000 [00:00<?, ?it/s]"
          ],
          "name": "stderr"
        },
        {
          "output_type": "stream",
          "text": [
            "EPOCH: 0\n"
          ],
          "name": "stdout"
        },
        {
          "output_type": "stream",
          "text": [
            "Loss=1.4095442295074463 Batch_id=999 Accuracy=26.58: 100%|██████████| 1000/1000 [00:26<00:00, 37.95it/s]\n",
            "  0%|          | 0/1000 [00:00<?, ?it/s]"
          ],
          "name": "stderr"
        },
        {
          "output_type": "stream",
          "text": [
            "\n",
            "Test set: Average loss: 1.4844, Accuracy: 4547/10000 (45.47%)\n",
            "\n",
            "EPOCH: 1\n"
          ],
          "name": "stdout"
        },
        {
          "output_type": "stream",
          "text": [
            "Loss=1.3269126415252686 Batch_id=999 Accuracy=49.77: 100%|██████████| 1000/1000 [00:25<00:00, 38.95it/s]\n",
            "  0%|          | 0/1000 [00:00<?, ?it/s]"
          ],
          "name": "stderr"
        },
        {
          "output_type": "stream",
          "text": [
            "\n",
            "Test set: Average loss: 1.3536, Accuracy: 5300/10000 (53.00%)\n",
            "\n",
            "EPOCH: 2\n"
          ],
          "name": "stdout"
        },
        {
          "output_type": "stream",
          "text": [
            "Loss=1.0714342594146729 Batch_id=999 Accuracy=58.51: 100%|██████████| 1000/1000 [00:26<00:00, 38.04it/s]\n",
            "  0%|          | 0/1000 [00:00<?, ?it/s]"
          ],
          "name": "stderr"
        },
        {
          "output_type": "stream",
          "text": [
            "\n",
            "Test set: Average loss: 1.0650, Accuracy: 6337/10000 (63.37%)\n",
            "\n",
            "EPOCH: 3\n"
          ],
          "name": "stdout"
        },
        {
          "output_type": "stream",
          "text": [
            "Loss=0.9182867407798767 Batch_id=999 Accuracy=63.20: 100%|██████████| 1000/1000 [00:26<00:00, 37.96it/s]\n",
            "  0%|          | 0/1000 [00:00<?, ?it/s]"
          ],
          "name": "stderr"
        },
        {
          "output_type": "stream",
          "text": [
            "\n",
            "Test set: Average loss: 0.9972, Accuracy: 6685/10000 (66.85%)\n",
            "\n",
            "EPOCH: 4\n"
          ],
          "name": "stdout"
        },
        {
          "output_type": "stream",
          "text": [
            "Loss=0.9655371904373169 Batch_id=999 Accuracy=66.63: 100%|██████████| 1000/1000 [00:26<00:00, 38.37it/s]\n",
            "  0%|          | 0/1000 [00:00<?, ?it/s]"
          ],
          "name": "stderr"
        },
        {
          "output_type": "stream",
          "text": [
            "\n",
            "Test set: Average loss: 0.8535, Accuracy: 7072/10000 (70.72%)\n",
            "\n",
            "EPOCH: 5\n"
          ],
          "name": "stdout"
        },
        {
          "output_type": "stream",
          "text": [
            "Loss=0.6869574189186096 Batch_id=999 Accuracy=68.90: 100%|██████████| 1000/1000 [00:26<00:00, 37.62it/s]\n",
            "  0%|          | 0/1000 [00:00<?, ?it/s]"
          ],
          "name": "stderr"
        },
        {
          "output_type": "stream",
          "text": [
            "\n",
            "Test set: Average loss: 0.8144, Accuracy: 7224/10000 (72.24%)\n",
            "\n",
            "EPOCH: 6\n"
          ],
          "name": "stdout"
        },
        {
          "output_type": "stream",
          "text": [
            "Loss=0.6600573062896729 Batch_id=999 Accuracy=70.79: 100%|██████████| 1000/1000 [00:26<00:00, 37.61it/s]\n",
            "  0%|          | 0/1000 [00:00<?, ?it/s]"
          ],
          "name": "stderr"
        },
        {
          "output_type": "stream",
          "text": [
            "\n",
            "Test set: Average loss: 0.7406, Accuracy: 7467/10000 (74.67%)\n",
            "\n",
            "EPOCH: 7\n"
          ],
          "name": "stdout"
        },
        {
          "output_type": "stream",
          "text": [
            "Loss=0.9063968062400818 Batch_id=999 Accuracy=72.01: 100%|██████████| 1000/1000 [00:26<00:00, 38.14it/s]\n",
            "  0%|          | 0/1000 [00:00<?, ?it/s]"
          ],
          "name": "stderr"
        },
        {
          "output_type": "stream",
          "text": [
            "\n",
            "Test set: Average loss: 0.7270, Accuracy: 7511/10000 (75.11%)\n",
            "\n",
            "EPOCH: 8\n"
          ],
          "name": "stdout"
        },
        {
          "output_type": "stream",
          "text": [
            "Loss=0.4213894307613373 Batch_id=999 Accuracy=73.22: 100%|██████████| 1000/1000 [00:26<00:00, 38.18it/s]\n",
            "  0%|          | 0/1000 [00:00<?, ?it/s]"
          ],
          "name": "stderr"
        },
        {
          "output_type": "stream",
          "text": [
            "\n",
            "Test set: Average loss: 0.7279, Accuracy: 7535/10000 (75.35%)\n",
            "\n",
            "EPOCH: 9\n"
          ],
          "name": "stdout"
        },
        {
          "output_type": "stream",
          "text": [
            "Loss=0.8349788188934326 Batch_id=999 Accuracy=73.95: 100%|██████████| 1000/1000 [00:26<00:00, 37.27it/s]\n",
            "  0%|          | 0/1000 [00:00<?, ?it/s]"
          ],
          "name": "stderr"
        },
        {
          "output_type": "stream",
          "text": [
            "\n",
            "Test set: Average loss: 0.7550, Accuracy: 7445/10000 (74.45%)\n",
            "\n",
            "EPOCH: 10\n"
          ],
          "name": "stdout"
        },
        {
          "output_type": "stream",
          "text": [
            "Loss=0.5445789694786072 Batch_id=999 Accuracy=74.47: 100%|██████████| 1000/1000 [00:26<00:00, 37.79it/s]\n",
            "  0%|          | 0/1000 [00:00<?, ?it/s]"
          ],
          "name": "stderr"
        },
        {
          "output_type": "stream",
          "text": [
            "\n",
            "Test set: Average loss: 0.7440, Accuracy: 7511/10000 (75.11%)\n",
            "\n",
            "EPOCH: 11\n"
          ],
          "name": "stdout"
        },
        {
          "output_type": "stream",
          "text": [
            "Loss=0.636503279209137 Batch_id=999 Accuracy=75.52: 100%|██████████| 1000/1000 [00:27<00:00, 36.87it/s]\n",
            "  0%|          | 0/1000 [00:00<?, ?it/s]"
          ],
          "name": "stderr"
        },
        {
          "output_type": "stream",
          "text": [
            "\n",
            "Test set: Average loss: 0.7246, Accuracy: 7624/10000 (76.24%)\n",
            "\n",
            "EPOCH: 12\n"
          ],
          "name": "stdout"
        },
        {
          "output_type": "stream",
          "text": [
            "Loss=0.5626000761985779 Batch_id=999 Accuracy=75.98: 100%|██████████| 1000/1000 [00:26<00:00, 37.91it/s]\n",
            "  0%|          | 0/1000 [00:00<?, ?it/s]"
          ],
          "name": "stderr"
        },
        {
          "output_type": "stream",
          "text": [
            "\n",
            "Test set: Average loss: 0.6181, Accuracy: 7910/10000 (79.10%)\n",
            "\n",
            "EPOCH: 13\n"
          ],
          "name": "stdout"
        },
        {
          "output_type": "stream",
          "text": [
            "Loss=0.7613948583602905 Batch_id=999 Accuracy=76.30: 100%|██████████| 1000/1000 [00:26<00:00, 37.32it/s]\n",
            "  0%|          | 0/1000 [00:00<?, ?it/s]"
          ],
          "name": "stderr"
        },
        {
          "output_type": "stream",
          "text": [
            "\n",
            "Test set: Average loss: 0.6711, Accuracy: 7743/10000 (77.43%)\n",
            "\n",
            "EPOCH: 14\n"
          ],
          "name": "stdout"
        },
        {
          "output_type": "stream",
          "text": [
            "Loss=0.6607082486152649 Batch_id=999 Accuracy=77.04: 100%|██████████| 1000/1000 [00:26<00:00, 37.52it/s]\n",
            "  0%|          | 0/1000 [00:00<?, ?it/s]"
          ],
          "name": "stderr"
        },
        {
          "output_type": "stream",
          "text": [
            "\n",
            "Test set: Average loss: 0.7383, Accuracy: 7560/10000 (75.60%)\n",
            "\n",
            "EPOCH: 15\n"
          ],
          "name": "stdout"
        },
        {
          "output_type": "stream",
          "text": [
            "Loss=0.786210834980011 Batch_id=999 Accuracy=77.59: 100%|██████████| 1000/1000 [00:26<00:00, 37.07it/s]\n",
            "  0%|          | 0/1000 [00:00<?, ?it/s]"
          ],
          "name": "stderr"
        },
        {
          "output_type": "stream",
          "text": [
            "\n",
            "Test set: Average loss: 0.6542, Accuracy: 7828/10000 (78.28%)\n",
            "\n",
            "EPOCH: 16\n"
          ],
          "name": "stdout"
        },
        {
          "output_type": "stream",
          "text": [
            "Loss=0.6991320252418518 Batch_id=999 Accuracy=77.87: 100%|██████████| 1000/1000 [00:26<00:00, 37.74it/s]\n",
            "  0%|          | 0/1000 [00:00<?, ?it/s]"
          ],
          "name": "stderr"
        },
        {
          "output_type": "stream",
          "text": [
            "\n",
            "Test set: Average loss: 0.6146, Accuracy: 7901/10000 (79.01%)\n",
            "\n",
            "EPOCH: 17\n"
          ],
          "name": "stdout"
        },
        {
          "output_type": "stream",
          "text": [
            "Loss=0.5817660689353943 Batch_id=999 Accuracy=77.75: 100%|██████████| 1000/1000 [00:26<00:00, 37.25it/s]\n",
            "  0%|          | 0/1000 [00:00<?, ?it/s]"
          ],
          "name": "stderr"
        },
        {
          "output_type": "stream",
          "text": [
            "\n",
            "Test set: Average loss: 0.6153, Accuracy: 7918/10000 (79.18%)\n",
            "\n",
            "EPOCH: 18\n"
          ],
          "name": "stdout"
        },
        {
          "output_type": "stream",
          "text": [
            "Loss=0.6655513644218445 Batch_id=999 Accuracy=78.56: 100%|██████████| 1000/1000 [00:26<00:00, 37.38it/s]\n",
            "  0%|          | 0/1000 [00:00<?, ?it/s]"
          ],
          "name": "stderr"
        },
        {
          "output_type": "stream",
          "text": [
            "\n",
            "Test set: Average loss: 0.6488, Accuracy: 7868/10000 (78.68%)\n",
            "\n",
            "EPOCH: 19\n"
          ],
          "name": "stdout"
        },
        {
          "output_type": "stream",
          "text": [
            "Loss=0.6405755877494812 Batch_id=999 Accuracy=78.84: 100%|██████████| 1000/1000 [00:26<00:00, 37.15it/s]\n",
            "  0%|          | 0/1000 [00:00<?, ?it/s]"
          ],
          "name": "stderr"
        },
        {
          "output_type": "stream",
          "text": [
            "\n",
            "Test set: Average loss: 0.6983, Accuracy: 7655/10000 (76.55%)\n",
            "\n",
            "EPOCH: 20\n"
          ],
          "name": "stdout"
        },
        {
          "output_type": "stream",
          "text": [
            "Loss=0.5150184631347656 Batch_id=999 Accuracy=78.97: 100%|██████████| 1000/1000 [00:26<00:00, 37.55it/s]\n",
            "  0%|          | 0/1000 [00:00<?, ?it/s]"
          ],
          "name": "stderr"
        },
        {
          "output_type": "stream",
          "text": [
            "\n",
            "Test set: Average loss: 0.6075, Accuracy: 7972/10000 (79.72%)\n",
            "\n",
            "EPOCH: 21\n"
          ],
          "name": "stdout"
        },
        {
          "output_type": "stream",
          "text": [
            "Loss=0.5184347629547119 Batch_id=999 Accuracy=79.32: 100%|██████████| 1000/1000 [00:26<00:00, 37.88it/s]\n",
            "  0%|          | 0/1000 [00:00<?, ?it/s]"
          ],
          "name": "stderr"
        },
        {
          "output_type": "stream",
          "text": [
            "\n",
            "Test set: Average loss: 0.5987, Accuracy: 8010/10000 (80.10%)\n",
            "\n",
            "EPOCH: 22\n"
          ],
          "name": "stdout"
        },
        {
          "output_type": "stream",
          "text": [
            "Loss=0.4128665030002594 Batch_id=999 Accuracy=79.59: 100%|██████████| 1000/1000 [00:26<00:00, 38.01it/s]\n",
            "  0%|          | 0/1000 [00:00<?, ?it/s]"
          ],
          "name": "stderr"
        },
        {
          "output_type": "stream",
          "text": [
            "\n",
            "Test set: Average loss: 0.5960, Accuracy: 7991/10000 (79.91%)\n",
            "\n",
            "EPOCH: 23\n"
          ],
          "name": "stdout"
        },
        {
          "output_type": "stream",
          "text": [
            "Loss=0.4432058334350586 Batch_id=999 Accuracy=79.78: 100%|██████████| 1000/1000 [00:26<00:00, 37.58it/s]\n",
            "  0%|          | 0/1000 [00:00<?, ?it/s]"
          ],
          "name": "stderr"
        },
        {
          "output_type": "stream",
          "text": [
            "\n",
            "Test set: Average loss: 0.6080, Accuracy: 8031/10000 (80.31%)\n",
            "\n",
            "EPOCH: 24\n"
          ],
          "name": "stdout"
        },
        {
          "output_type": "stream",
          "text": [
            "Loss=0.6179383993148804 Batch_id=999 Accuracy=80.14: 100%|██████████| 1000/1000 [00:25<00:00, 38.73it/s]\n",
            "  0%|          | 0/1000 [00:00<?, ?it/s]"
          ],
          "name": "stderr"
        },
        {
          "output_type": "stream",
          "text": [
            "\n",
            "Test set: Average loss: 0.5737, Accuracy: 8058/10000 (80.58%)\n",
            "\n",
            "EPOCH: 25\n"
          ],
          "name": "stdout"
        },
        {
          "output_type": "stream",
          "text": [
            "Loss=0.9626366496086121 Batch_id=999 Accuracy=80.14: 100%|██████████| 1000/1000 [00:26<00:00, 37.59it/s]\n",
            "  0%|          | 0/1000 [00:00<?, ?it/s]"
          ],
          "name": "stderr"
        },
        {
          "output_type": "stream",
          "text": [
            "\n",
            "Test set: Average loss: 0.6539, Accuracy: 7928/10000 (79.28%)\n",
            "\n",
            "EPOCH: 26\n"
          ],
          "name": "stdout"
        },
        {
          "output_type": "stream",
          "text": [
            "Loss=0.6048506498336792 Batch_id=999 Accuracy=80.54: 100%|██████████| 1000/1000 [00:26<00:00, 37.49it/s]\n",
            "  0%|          | 0/1000 [00:00<?, ?it/s]"
          ],
          "name": "stderr"
        },
        {
          "output_type": "stream",
          "text": [
            "\n",
            "Test set: Average loss: 0.6193, Accuracy: 7980/10000 (79.80%)\n",
            "\n",
            "EPOCH: 27\n"
          ],
          "name": "stdout"
        },
        {
          "output_type": "stream",
          "text": [
            "Loss=0.6699178814888 Batch_id=999 Accuracy=80.56: 100%|██████████| 1000/1000 [00:26<00:00, 37.65it/s]\n",
            "  0%|          | 0/1000 [00:00<?, ?it/s]"
          ],
          "name": "stderr"
        },
        {
          "output_type": "stream",
          "text": [
            "\n",
            "Test set: Average loss: 0.5825, Accuracy: 8101/10000 (81.01%)\n",
            "\n",
            "EPOCH: 28\n"
          ],
          "name": "stdout"
        },
        {
          "output_type": "stream",
          "text": [
            "Loss=0.6827728152275085 Batch_id=999 Accuracy=80.91: 100%|██████████| 1000/1000 [00:25<00:00, 38.54it/s]\n",
            "  0%|          | 0/1000 [00:00<?, ?it/s]"
          ],
          "name": "stderr"
        },
        {
          "output_type": "stream",
          "text": [
            "\n",
            "Test set: Average loss: 0.5521, Accuracy: 8209/10000 (82.09%)\n",
            "\n",
            "EPOCH: 29\n"
          ],
          "name": "stdout"
        },
        {
          "output_type": "stream",
          "text": [
            "Loss=0.42046287655830383 Batch_id=999 Accuracy=81.14: 100%|██████████| 1000/1000 [00:26<00:00, 37.27it/s]\n"
          ],
          "name": "stderr"
        },
        {
          "output_type": "stream",
          "text": [
            "\n",
            "Test set: Average loss: 0.5816, Accuracy: 8062/10000 (80.62%)\n",
            "\n"
          ],
          "name": "stdout"
        }
      ]
    },
    {
      "cell_type": "markdown",
      "metadata": {
        "id": "D2YP8nCiVeNN"
      },
      "source": [
        "# 6. Model plot for Accuracy"
      ]
    },
    {
      "cell_type": "code",
      "metadata": {
        "colab": {
          "base_uri": "https://localhost:8080/",
          "height": 624
        },
        "id": "9rFPLcfLVdkl",
        "outputId": "2c60e49d-4181-4bc7-9886-64fc8d2272fc"
      },
      "source": [
        "fig, axs = plt.subplots(2,2,figsize=(15,10))\n",
        "axs[0, 0].plot(train_losses)\n",
        "axs[0, 0].set_title(\"Training Loss\")\n",
        "axs[1, 0].plot(train_acc)\n",
        "axs[1, 0].set_title(\"Training Accuracy\")\n",
        "axs[0, 1].plot(test_losses)\n",
        "axs[0, 1].set_title(\"Test Loss\")\n",
        "axs[1, 1].plot(test_acc)\n",
        "axs[1, 1].set_title(\"Test Accuracy\")"
      ],
      "execution_count": null,
      "outputs": [
        {
          "output_type": "execute_result",
          "data": {
            "text/plain": [
              "Text(0.5, 1.0, 'Test Accuracy')"
            ]
          },
          "metadata": {
            "tags": []
          },
          "execution_count": 14
        },
        {
          "output_type": "display_data",
          "data": {
            "image/png": "[encoded data removed]",
            "text/plain": [
              "<Figure size 1080x720 with 4 Axes>"
            ]
          },
          "metadata": {
            "tags": [],
            "needs_background": "light"
          }
        }
      ]
    },
    {
      "cell_type": "markdown",
      "metadata": {
        "id": "kGWqyMvApjyQ"
      },
      "source": [
        "# Network Accuracy"
      ]
    },
    {
      "cell_type": "code",
      "metadata": {
        "colab": {
          "base_uri": "https://localhost:8080/"
        },
        "id": "ZirwqLmEpjS4",
        "outputId": "b362daaf-6042-45fe-c4d9-3e5ad90201fa"
      },
      "source": [
        "correct = 0\n",
        "total = 0\n",
        "with torch.no_grad():\n",
        "    for data in test_loader:\n",
        "        images, labels = data\n",
        "        images, labels = images.to(device), labels.to(device)\n",
        "        outputs = model(images)\n",
        "        _, predicted = torch.max(outputs.data, 1)\n",
        "        total += labels.size(0)\n",
        "        correct += (predicted == labels).sum().item()\n",
        "\n",
        "print('Accuracy of the network on the 10000 test images: %.3f %%' % (\n",
        "    100 * correct / total))"
      ],
      "execution_count": null,
      "outputs": [
        {
          "output_type": "stream",
          "text": [
            "Accuracy of the network on the 10000 test images: 80.620 %\n"
          ],
          "name": "stdout"
        }
      ]
    },
    {
      "cell_type": "markdown",
      "metadata": {
        "id": "0TG_aNKPpnYI"
      },
      "source": [
        "# Accuracy for each classes"
      ]
    },
    {
      "cell_type": "code",
      "metadata": {
        "colab": {
          "base_uri": "https://localhost:8080/"
        },
        "id": "3puewfGHpqBS",
        "outputId": "0d89a37b-d775-4316-e267-bfd72a1bdff9"
      },
      "source": [
        "class_correct = list(0. for i in range(10))\n",
        "class_total = list(0. for i in range(10))\n",
        "with torch.no_grad():\n",
        "    for data in test_loader:\n",
        "        images, labels = data\n",
        "        images, labels = images.to(device), labels.to(device)\n",
        "        outputs = model(images)\n",
        "        _, predicted = torch.max(outputs, 1)\n",
        "        c = (predicted == labels).squeeze()\n",
        "        for i in range(4):\n",
        "            label = labels[i]\n",
        "            class_correct[label] += c[i].item()\n",
        "            class_total[label] += 1\n",
        "\n",
        "\n",
        "for i in range(10):\n",
        "    print('Accuracy of %5s : %2d %%' % (\n",
        "        classes[i], 100 * class_correct[i] / class_total[i]))"
      ],
      "execution_count": null,
      "outputs": [
        {
          "output_type": "stream",
          "text": [
            "Accuracy of airplane : 87 %\n",
            "Accuracy of automobile : 93 %\n",
            "Accuracy of  bird : 79 %\n",
            "Accuracy of   cat : 77 %\n",
            "Accuracy of  deer : 61 %\n",
            "Accuracy of   dog : 62 %\n",
            "Accuracy of  frog : 95 %\n",
            "Accuracy of horse : 96 %\n",
            "Accuracy of  ship : 92 %\n",
            "Accuracy of truck : 87 %\n"
          ],
          "name": "stdout"
        }
      ]
    }
  ]
}